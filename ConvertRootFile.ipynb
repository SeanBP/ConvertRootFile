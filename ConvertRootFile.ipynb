%matplotlib notebook
import uproot as ur
import matplotlib.pyplot as plt
import k3d
import numpy as np
import awkward as ak
file = ur.open('rec_.root')
tree = file['events']

eventPath = '/Users/spreins/Downloads/Events.txt'

with open(eventPath, 'a') as f:
    f.write("")
    
for ievt in range(5):
    
    print(ievt)
    ak_arrays = tree.arrays()
    def get_vector(varname='HcalBarrelHitsReco',energy='energy'):
        E = np.array(ak.to_list(ak_arrays["%s.%s"%(varname,energy)]), dtype="O")
        x = np.array(ak.to_list(ak_arrays["%s.position.x"%varname]), dtype="O")
        y = np.array(ak.to_list(ak_arrays["%s.position.y"%varname]), dtype="O")
        z = np.array(ak.to_list(ak_arrays["%s.position.z"%varname]), dtype="O")
        t = np.array(ak.to_list(ak_arrays["%s.time"%varname]), dtype="O")

        #E = E/1000.0
        return E,x, y, z, t
    E = {}
    x = {}
    y = {}
    z  = {}
    t = {}
    theta={}
    phi = {}
    for i in ['HcalBarrel']:#,'TrackerBarrel','VertexBarrel']:
        E[i], x[i], y[i],z[i],t[i] = get_vector("%sHitsReco"%i)
    for i in ['EcalBarrel']:#,'TrackerBarrel','VertexBarrel']:
        E[i], x[i], y[i],z[i],t[i] = get_vector("%sHitsReco"%i,energy='edep')
    for i in ['EcalBarrelScFi']:#,'TrackerBarrel','VertexBarrel']:
        E[i], x[i], y[i],z[i],t[i] = get_vector("%sHitsReco"%i,energy='energy')
    for i in ['HcalHadronEndcap','HcalElectronEndcap','EcalEndcapP','EcalEndcapN']:#,'TrackerEndcap','VertexEndcap']:
        E[i], x[i], y[i],z[i],t[i] = get_vector("%sHitsReco"%i)
 
    with open(eventPath, 'a') as f:
        
        f.write('\n')
        f.write("Event")
        f.write('\n');
        f.write("Hits")
        f.write('\n');
        iterate = 0  
        for i in ['HcalHadron','HcalElectron']:
            key = '%sEndcap'%i
            xcoord = x[key][ievt]
            ycoord = y[key][ievt]
            zcoord = z[key][ievt]
            ecoord = E[key][ievt]
            tcoord = t[key][ievt]
            for (k, l, m, n, o) in zip(xcoord, ycoord, zcoord, ecoord, tcoord):
                if(iterate != 0):
                    f.write('\n')
                iterate = 1
                f.write(str(o)+" "+str(k/1000.0)+" "+str(l/1000.0)+" "+str(m/1000.0)+" "+str(n))
        for i in ['EcalEndcap']:  
            for j in ['P','N']:
                key = '%s%s'%(i,j)
                xcoord = x[key][ievt]
                ycoord = y[key][ievt]
                zcoord = z[key][ievt]
                ecoord = E[key][ievt]
                tcoord = t[key][ievt]
                for (k, l, m, n, o) in zip(xcoord, ycoord, zcoord, ecoord, tcoord):
                    f.write('\n')
                    f.write(str(o)+" "+str(k/1000.0)+" "+str(l/1000.0)+" "+str(m/1000.0)+" "+str(n))
        for j in ['BarrelScFi']:
            for i in ['Ecal']:
                key = '%s%s'%(i,j)
                xcoord = x[key][ievt]
                ycoord = y[key][ievt]
                zcoord = z[key][ievt]
                tcoord = t[key][ievt]
                for (k, l, m, n, o) in zip(xcoord, ycoord, zcoord, ecoord, tcoord):
                    f.write('\n')
                    f.write(str(o)+" "+str(k/1000.0)+" "+str(l/1000.0)+" "+str(m/1000.0)+" "+str(n))
        for j in ['Barrel']:
            for i in ['Ecal','Hcal']:
                key = '%s%s'%(i,j)
                xcoord = x[key][ievt]
                ycoord = y[key][ievt]
                zcoord = z[key][ievt]
                tcoord = t[key][ievt]
                for (k, l, m, n, o) in zip(xcoord, ycoord, zcoord, ecoord, tcoord):
                    f.write('\n')
                    f.write(str(o)+" "+str(k/1000.0)+" "+str(l/1000.0)+" "+str(m/1000.0)+" "+str(n))
    def get_vector(varname='HcalBarrelClusters',energy='energy'):
        E = np.array(ak.to_list(ak_arrays["%s.%s"%(varname,energy)]), dtype="O")
        x = np.array(ak.to_list(ak_arrays["%s.position.x"%varname]), dtype="O")
        y = np.array(ak.to_list(ak_arrays["%s.position.y"%varname]), dtype="O")
        z = np.array(ak.to_list(ak_arrays["%s.position.z"%varname]), dtype="O")

        #E = E/1000.0
        return E, x, y, z
    E = {}
    x = {}
    y = {}
    z  = {}
    theta={}
    phi = {}
    for i in ['HcalBarrel']:#,'TrackerBarrel','VertexBarrel']:
        E[i], x[i], y[i],z[i] = get_vector("%sClusters"%i)
    for i in ['EcalBarrel']:#,'TrackerBarrel','VertexBarrel']:
        E[i], x[i], y[i],z[i] = get_vector("%sClusters"%i,energy='edep')
    for i in ['EcalBarrelScFi']:#,'TrackerBarrel','VertexBarrel']:
        E[i], x[i], y[i],z[i] = get_vector("%sClusters"%i,energy='energy')
    for i in ['HcalHadronEndcap','HcalElectronEndcap','EcalEndcapP','EcalEndcapN']:#,'TrackerEndcap','VertexEndcap']:
        E[i], x[i], y[i],z[i] = get_vector("%sClusters"%i)
    #ievt = 11
    with open(eventPath, 'a') as f:
        f.write('\n')
        f.write("Clusters")
        f.write('\n')
        iterate = 0 
        for i in ['HcalHadron','HcalElectron']:
            key = '%sEndcap'%i            
            component = "Hcal Endcap "
            xcoord = x[key][ievt]
            ycoord = y[key][ievt]
            zcoord = z[key][ievt]
            ecoord = E[key][ievt]
        
            for (k, l, m, n) in zip(xcoord, ycoord, zcoord, ecoord):
                if(iterate != 0):
                    f.write('\n')
                iterate = 1
                f.write(component+str(k/1000.0)+" "+str(l/1000.0)+" "+str(m/1000.0)+" "+str(n))
        for i in ['EcalEndcap']:
            for j in ['N','P']:
                key = '%s%s'%(i,j)
                component = "Ecal Endcap "
                xcoord = x[key][ievt]
                ycoord = y[key][ievt]
                zcoord = z[key][ievt]
                ecoord = E[key][ievt]
                for (k, l, m, n) in zip(xcoord, ycoord, zcoord, ecoord):
                    f.write('\n')
                    f.write(component+str(k/1000.0)+" "+str(l/1000.0)+" "+str(m/1000.0)+" "+str(n))                
        for j in ['BarrelScFi']:
            for i in ['Ecal']:
                component = "Ecal Barrel "
                key = '%s%s'%(i,j)
                xcoord = x[key][ievt]
                ycoord = y[key][ievt]
                zcoord = z[key][ievt]
                ecoord = E[key][ievt]
                for (k, l, m, n) in zip(xcoord, ycoord, zcoord, ecoord):
                    f.write('\n')
                    f.write(component+str(k/1000.0)+" "+str(l/1000.0)+" "+str(m/1000.0)+" "+str(n))        
        barrel = 0
        for j in ['Barrel']:
            for i in ['Ecal','Hcal']:
                if(barrel == 0):
                    component = "Ecal Barrel "
                    barrel = 1
                else:
                    component = "Hcal Barrel "
                key = '%s%s'%(i,j)
                xcoord = x[key][ievt]
                ycoord = y[key][ievt]
                zcoord = z[key][ievt]
                ecoord = E[key][ievt]
                for (k, l, m, n) in zip(xcoord, ycoord, zcoord, ecoord):
                    f.write('\n')
                    f.write(component+str(k/1000.0)+" "+str(l/1000.0)+" "+str(m/1000.0)+" "+str(n))
                    
print('Finished')
